{
 "cells": [
  {
   "cell_type": "markdown",
   "id": "eGajpTvZbl8W",
   "metadata": {
    "id": "eGajpTvZbl8W"
   },
   "source": [
    "# CMPE 297: Homework 1: Regular expressions, text normalization, and edit distance\n",
    "\n",
    "The parts that you need to complete are marked as Exercises."
   ]
  },
  {
   "cell_type": "markdown",
   "id": "c3d4adbe",
   "metadata": {},
   "source": [
    "## Aditya Sahu"
   ]
  },
  {
   "cell_type": "markdown",
   "id": "lkzAo9kSbpaa",
   "metadata": {
    "id": "lkzAo9kSbpaa"
   },
   "source": [
    "## Part 0: Initialization & Setup"
   ]
  },
  {
   "cell_type": "code",
   "execution_count": 1,
   "id": "d56c92a0",
   "metadata": {
    "id": "d56c92a0"
   },
   "outputs": [
    {
     "name": "stderr",
     "output_type": "stream",
     "text": [
      "[nltk_data] Downloading package movie_reviews to\n",
      "[nltk_data]     C:\\Users\\adity\\AppData\\Roaming\\nltk_data...\n",
      "[nltk_data]   Package movie_reviews is already up-to-date!\n",
      "[nltk_data] Downloading package stopwords to\n",
      "[nltk_data]     C:\\Users\\adity\\AppData\\Roaming\\nltk_data...\n",
      "[nltk_data]   Package stopwords is already up-to-date!\n",
      "[nltk_data] Downloading package wordnet to\n",
      "[nltk_data]     C:\\Users\\adity\\AppData\\Roaming\\nltk_data...\n",
      "[nltk_data]   Package wordnet is already up-to-date!\n"
     ]
    },
    {
     "data": {
      "text/plain": [
       "True"
      ]
     },
     "execution_count": 1,
     "metadata": {},
     "output_type": "execute_result"
    }
   ],
   "source": [
    "# importing required libraries\n",
    "import re\n",
    "import nltk\n",
    "from nltk.corpus import movie_reviews\n",
    "import string\n",
    "import pandas as pd\n",
    "from nltk.corpus import stopwords\n",
    "\n",
    "nltk.download('movie_reviews')\n",
    "nltk.download('stopwords')\n",
    "nltk.download('wordnet')"
   ]
  },
  {
   "cell_type": "markdown",
   "id": "2jEV5pB3bhkq",
   "metadata": {
    "id": "2jEV5pB3bhkq"
   },
   "source": [
    "## Part 1: Regular Expressions"
   ]
  },
  {
   "cell_type": "markdown",
   "id": "oLP8HLkcbvcG",
   "metadata": {
    "id": "oLP8HLkcbvcG"
   },
   "source": [
    "### Extracting license plate numbers, IDs, emails and mailing addresses from a document\n"
   ]
  },
  {
   "cell_type": "markdown",
   "id": "xLT-yj6keZOF",
   "metadata": {
    "id": "xLT-yj6keZOF"
   },
   "source": [
    "#### Document creation"
   ]
  },
  {
   "cell_type": "code",
   "execution_count": 2,
   "id": "aefa7f39",
   "metadata": {
    "id": "aefa7f39"
   },
   "outputs": [
    {
     "data": {
      "text/plain": [
       "'I am 20 years old. My previous license plate number was 4XUI302 and my new one is 3A-278. My ID is J987492 and my address is 123 Main street, San Jose, CA. Please email me at myemail123+spam@google.cg or jane.doe@sjsu.edu'"
      ]
     },
     "execution_count": 2,
     "metadata": {},
     "output_type": "execute_result"
    }
   ],
   "source": [
    "sentence = 'I am 20 years old. My previous license plate number was 4XUI302 and my new one is 3A-278. My ID is J987492 and my address is 123 Main street, San Jose, CA. Please email me at myemail123+spam@google.cg or jane.doe@sjsu.edu'\n",
    "sentence"
   ]
  },
  {
   "cell_type": "markdown",
   "id": "enF7P05qebea",
   "metadata": {
    "id": "enF7P05qebea"
   },
   "source": [
    "Extracting license plate numbers"
   ]
  },
  {
   "cell_type": "code",
   "execution_count": 3,
   "id": "65e2f32e",
   "metadata": {
    "colab": {
     "base_uri": "https://localhost:8080/"
    },
    "id": "65e2f32e",
    "outputId": "43e5d20c-53fc-4b2f-9da7-0b17cbd5dfd7"
   },
   "outputs": [
    {
     "data": {
      "text/plain": [
       "['4XUI302', '3A-278']"
      ]
     },
     "execution_count": 3,
     "metadata": {},
     "output_type": "execute_result"
    }
   ],
   "source": [
    "# The format of license plate number is a digit then 2 or 3 letters (one of which can be a \"-\"), and then 3 digits\n",
    "\n",
    "regex = re.compile(r'(\\d{1}[A-Za-z-]{2,3}\\d{3})')\n",
    "lincense_plate_numbers = regex.findall(sentence)\n",
    "lincense_plate_numbers"
   ]
  },
  {
   "cell_type": "markdown",
   "id": "nzg5Gxx9dzW2",
   "metadata": {
    "id": "nzg5Gxx9dzW2"
   },
   "source": [
    "### Exercise 1-1: Extract the ID numbers from the document."
   ]
  },
  {
   "cell_type": "code",
   "execution_count": 4,
   "id": "d98e769f",
   "metadata": {
    "id": "d98e769f"
   },
   "outputs": [
    {
     "data": {
      "text/plain": [
       "['J987492']"
      ]
     },
     "execution_count": 4,
     "metadata": {},
     "output_type": "execute_result"
    }
   ],
   "source": [
    "# The format of the IDs is one character/letter and then 6 digits\n",
    "regex = re.compile(r'([A-Za-z-]{1,2}\\d{6})')\n",
    "ids = regex.findall(sentence)\n",
    "ids"
   ]
  },
  {
   "cell_type": "markdown",
   "id": "y3BZc47FeRzR",
   "metadata": {
    "id": "y3BZc47FeRzR"
   },
   "source": [
    "### Exercise 1-2: Extract the email IDs from the document"
   ]
  },
  {
   "cell_type": "code",
   "execution_count": 5,
   "id": "11287af4",
   "metadata": {
    "id": "11287af4"
   },
   "outputs": [
    {
     "data": {
      "text/plain": [
       "['myemail123+spam@google.cg', 'jane.doe@sjsu.edu']"
      ]
     },
     "execution_count": 5,
     "metadata": {},
     "output_type": "execute_result"
    }
   ],
   "source": [
    "regex = re.compile(r'\\b[A-Za-z0-9._%+-]+@[A-Za-z0-9.-]+\\.[A-Z|a-z]{2,7}\\b')\n",
    "emails = regex.findall(sentence)\n",
    "emails"
   ]
  },
  {
   "cell_type": "markdown",
   "id": "UfCxo2u2erDf",
   "metadata": {
    "id": "UfCxo2u2erDf"
   },
   "source": [
    "### Exercise 1-3: Extract the mailing address from the document"
   ]
  },
  {
   "cell_type": "code",
   "execution_count": 6,
   "id": "62515169",
   "metadata": {
    "id": "62515169"
   },
   "outputs": [
    {
     "data": {
      "text/plain": [
       "['123 Main street, San Jose, CA']"
      ]
     },
     "execution_count": 6,
     "metadata": {},
     "output_type": "execute_result"
    }
   ],
   "source": [
    "regex = re.compile(r'\\d{1,10}\\b[A-Za-z ]+, \\b[A-Za-z ]{1,20}, \\b[A-Za-z ]{1,20}')\n",
    "mailing_address = regex.findall(sentence)\n",
    "mailing_address"
   ]
  },
  {
   "cell_type": "markdown",
   "id": "uM53UdvPevrA",
   "metadata": {
    "id": "uM53UdvPevrA"
   },
   "source": [
    "### Exercise 1-4: Anonymize the license plate numbers by replacing them with the text \"LP_NUM\"\n",
    "\n",
    "The re.sub function is described here: https://docs.python.org/3/library/re.html"
   ]
  },
  {
   "cell_type": "code",
   "execution_count": 7,
   "id": "ca6ae08c",
   "metadata": {
    "id": "ca6ae08c"
   },
   "outputs": [
    {
     "data": {
      "text/plain": [
       "'I am 20 years old. My previous license plate number was LP_NUM and my new one is LP_NUM. My ID is J987492 and my address is 123 Main street, San Jose, CA. Please email me at myemail123+spam@google.cg or jane.doe@sjsu.edu'"
      ]
     },
     "execution_count": 7,
     "metadata": {},
     "output_type": "execute_result"
    }
   ],
   "source": [
    "# Now replacing license plate numbers with the string \"LP_NUM\"\n",
    "sentence_modified = re.sub(r'(\\d{1}[A-Za-z-]{2,3}\\d{3})', 'LP_NUM', sentence)\n",
    "sentence_modified"
   ]
  },
  {
   "cell_type": "markdown",
   "id": "rArCsPyMfAeZ",
   "metadata": {
    "id": "rArCsPyMfAeZ"
   },
   "source": [
    "### Exercise 1-5: Replace the ID numbers with the text \"ID_NUM\""
   ]
  },
  {
   "cell_type": "code",
   "execution_count": 8,
   "id": "glVWmQAOfFTU",
   "metadata": {
    "id": "glVWmQAOfFTU"
   },
   "outputs": [
    {
     "data": {
      "text/plain": [
       "'I am 20 years old. My previous license plate number was LP_NUM and my new one is LP_NUM. My ID is ID_NUM and my address is 123 Main street, San Jose, CA. Please email me at myemail123+spam@google.cg or jane.doe@sjsu.edu'"
      ]
     },
     "execution_count": 8,
     "metadata": {},
     "output_type": "execute_result"
    }
   ],
   "source": [
    "sentence_modified1 = re.sub(r'([A-Za-z-]{1,2}\\d{6})', 'ID_NUM', sentence_modified)\n",
    "sentence_modified1"
   ]
  },
  {
   "cell_type": "markdown",
   "id": "q2ymEa7sfHnL",
   "metadata": {
    "id": "q2ymEa7sfHnL"
   },
   "source": [
    "## Part 2: Text Processing "
   ]
  },
  {
   "cell_type": "markdown",
   "id": "F_Y77JT9fjid",
   "metadata": {
    "id": "F_Y77JT9fjid"
   },
   "source": [
    "Count the number of words in the movie_reviews dataset (dataset uploaded in the beginning of this notebook under \"Part 0: Initialization and Setup\")"
   ]
  },
  {
   "cell_type": "code",
   "execution_count": 9,
   "id": "3239e17c",
   "metadata": {
    "id": "3239e17c"
   },
   "outputs": [
    {
     "data": {
      "text/plain": [
       "1583820"
      ]
     },
     "execution_count": 9,
     "metadata": {},
     "output_type": "execute_result"
    }
   ],
   "source": [
    "# print number of words in the movie review dataset\n",
    "len(movie_reviews.words())"
   ]
  },
  {
   "cell_type": "markdown",
   "id": "86nbNEYwfgwl",
   "metadata": {
    "id": "86nbNEYwfgwl"
   },
   "source": [
    "Load the standard list of punctuation marks"
   ]
  },
  {
   "cell_type": "code",
   "execution_count": 10,
   "id": "0929c795",
   "metadata": {
    "id": "0929c795"
   },
   "outputs": [
    {
     "data": {
      "text/plain": [
       "'!\"#$%&\\'()*+,-./:;<=>?@[\\\\]^_`{|}~'"
      ]
     },
     "execution_count": 10,
     "metadata": {},
     "output_type": "execute_result"
    }
   ],
   "source": [
    "punctuations = string.punctuation\n",
    "punctuations"
   ]
  },
  {
   "cell_type": "markdown",
   "id": "sg5Sc7X9fbpg",
   "metadata": {
    "id": "sg5Sc7X9fbpg"
   },
   "source": [
    "Remove punctation from movie reviews \n"
   ]
  },
  {
   "cell_type": "code",
   "execution_count": 11,
   "id": "18760b2a",
   "metadata": {
    "id": "18760b2a"
   },
   "outputs": [
    {
     "data": {
      "text/plain": [
       "1338788"
      ]
     },
     "execution_count": 11,
     "metadata": {},
     "output_type": "execute_result"
    }
   ],
   "source": [
    "words_wo_puncts = [x for x in movie_reviews.words() if x not in punctuations]\n",
    "len(words_wo_puncts)"
   ]
  },
  {
   "cell_type": "code",
   "execution_count": 12,
   "id": "0a18f452",
   "metadata": {
    "id": "0a18f452"
   },
   "outputs": [
    {
     "data": {
      "text/plain": [
       "39737"
      ]
     },
     "execution_count": 12,
     "metadata": {},
     "output_type": "execute_result"
    }
   ],
   "source": [
    "unique_words = set(words_wo_puncts)\n",
    "len(unique_words)"
   ]
  },
  {
   "cell_type": "markdown",
   "id": "D2L7yKz3gL-h",
   "metadata": {
    "id": "D2L7yKz3gL-h"
   },
   "source": [
    "Find the 20 most frequent words in the dataset"
   ]
  },
  {
   "cell_type": "code",
   "execution_count": 13,
   "id": "784d9a68",
   "metadata": {
    "id": "784d9a68"
   },
   "outputs": [
    {
     "data": {
      "text/plain": [
       "the     76529\n",
       "a       38106\n",
       "and     35576\n",
       "of      34123\n",
       "to      31937\n",
       "is      25195\n",
       "in      21822\n",
       "s       18513\n",
       "it      16107\n",
       "that    15924\n",
       "as      11378\n",
       "with    10792\n",
       "for      9961\n",
       "his      9587\n",
       "this     9578\n",
       "film     9517\n",
       "i        8889\n",
       "he       8864\n",
       "but      8634\n",
       "on       7385\n",
       "dtype: int64"
      ]
     },
     "execution_count": 13,
     "metadata": {},
     "output_type": "execute_result"
    }
   ],
   "source": [
    "# top 20 highest freq words\n",
    "pd.Series(words_wo_puncts).value_counts()[:20]"
   ]
  },
  {
   "cell_type": "markdown",
   "id": "id9YqucXf6oW",
   "metadata": {
    "id": "id9YqucXf6oW"
   },
   "source": [
    "Load the standard list of stopwords"
   ]
  },
  {
   "cell_type": "code",
   "execution_count": 14,
   "id": "9de2e57e",
   "metadata": {
    "id": "9de2e57e"
   },
   "outputs": [
    {
     "data": {
      "text/plain": [
       "['i',\n",
       " 'me',\n",
       " 'my',\n",
       " 'myself',\n",
       " 'we',\n",
       " 'our',\n",
       " 'ours',\n",
       " 'ourselves',\n",
       " 'you',\n",
       " \"you're\",\n",
       " \"you've\",\n",
       " \"you'll\",\n",
       " \"you'd\",\n",
       " 'your',\n",
       " 'yours',\n",
       " 'yourself',\n",
       " 'yourselves',\n",
       " 'he',\n",
       " 'him',\n",
       " 'his',\n",
       " 'himself',\n",
       " 'she',\n",
       " \"she's\",\n",
       " 'her',\n",
       " 'hers',\n",
       " 'herself',\n",
       " 'it',\n",
       " \"it's\",\n",
       " 'its',\n",
       " 'itself',\n",
       " 'they',\n",
       " 'them',\n",
       " 'their',\n",
       " 'theirs',\n",
       " 'themselves',\n",
       " 'what',\n",
       " 'which',\n",
       " 'who',\n",
       " 'whom',\n",
       " 'this',\n",
       " 'that',\n",
       " \"that'll\",\n",
       " 'these',\n",
       " 'those',\n",
       " 'am',\n",
       " 'is',\n",
       " 'are',\n",
       " 'was',\n",
       " 'were',\n",
       " 'be',\n",
       " 'been',\n",
       " 'being',\n",
       " 'have',\n",
       " 'has',\n",
       " 'had',\n",
       " 'having',\n",
       " 'do',\n",
       " 'does',\n",
       " 'did',\n",
       " 'doing',\n",
       " 'a',\n",
       " 'an',\n",
       " 'the',\n",
       " 'and',\n",
       " 'but',\n",
       " 'if',\n",
       " 'or',\n",
       " 'because',\n",
       " 'as',\n",
       " 'until',\n",
       " 'while',\n",
       " 'of',\n",
       " 'at',\n",
       " 'by',\n",
       " 'for',\n",
       " 'with',\n",
       " 'about',\n",
       " 'against',\n",
       " 'between',\n",
       " 'into',\n",
       " 'through',\n",
       " 'during',\n",
       " 'before',\n",
       " 'after',\n",
       " 'above',\n",
       " 'below',\n",
       " 'to',\n",
       " 'from',\n",
       " 'up',\n",
       " 'down',\n",
       " 'in',\n",
       " 'out',\n",
       " 'on',\n",
       " 'off',\n",
       " 'over',\n",
       " 'under',\n",
       " 'again',\n",
       " 'further',\n",
       " 'then',\n",
       " 'once',\n",
       " 'here',\n",
       " 'there',\n",
       " 'when',\n",
       " 'where',\n",
       " 'why',\n",
       " 'how',\n",
       " 'all',\n",
       " 'any',\n",
       " 'both',\n",
       " 'each',\n",
       " 'few',\n",
       " 'more',\n",
       " 'most',\n",
       " 'other',\n",
       " 'some',\n",
       " 'such',\n",
       " 'no',\n",
       " 'nor',\n",
       " 'not',\n",
       " 'only',\n",
       " 'own',\n",
       " 'same',\n",
       " 'so',\n",
       " 'than',\n",
       " 'too',\n",
       " 'very',\n",
       " 's',\n",
       " 't',\n",
       " 'can',\n",
       " 'will',\n",
       " 'just',\n",
       " 'don',\n",
       " \"don't\",\n",
       " 'should',\n",
       " \"should've\",\n",
       " 'now',\n",
       " 'd',\n",
       " 'll',\n",
       " 'm',\n",
       " 'o',\n",
       " 're',\n",
       " 've',\n",
       " 'y',\n",
       " 'ain',\n",
       " 'aren',\n",
       " \"aren't\",\n",
       " 'couldn',\n",
       " \"couldn't\",\n",
       " 'didn',\n",
       " \"didn't\",\n",
       " 'doesn',\n",
       " \"doesn't\",\n",
       " 'hadn',\n",
       " \"hadn't\",\n",
       " 'hasn',\n",
       " \"hasn't\",\n",
       " 'haven',\n",
       " \"haven't\",\n",
       " 'isn',\n",
       " \"isn't\",\n",
       " 'ma',\n",
       " 'mightn',\n",
       " \"mightn't\",\n",
       " 'mustn',\n",
       " \"mustn't\",\n",
       " 'needn',\n",
       " \"needn't\",\n",
       " 'shan',\n",
       " \"shan't\",\n",
       " 'shouldn',\n",
       " \"shouldn't\",\n",
       " 'wasn',\n",
       " \"wasn't\",\n",
       " 'weren',\n",
       " \"weren't\",\n",
       " 'won',\n",
       " \"won't\",\n",
       " 'wouldn',\n",
       " \"wouldn't\"]"
      ]
     },
     "execution_count": 14,
     "metadata": {},
     "output_type": "execute_result"
    }
   ],
   "source": [
    "# getting english stopwords\n",
    "eng_stopwords = stopwords.words('english')\n",
    "eng_stopwords"
   ]
  },
  {
   "cell_type": "markdown",
   "id": "cL-RrEeCgA0Z",
   "metadata": {
    "id": "cL-RrEeCgA0Z"
   },
   "source": [
    "Count the number of stopwords"
   ]
  },
  {
   "cell_type": "code",
   "execution_count": 15,
   "id": "d6645fe0",
   "metadata": {
    "id": "d6645fe0"
   },
   "outputs": [
    {
     "data": {
      "text/plain": [
       "179"
      ]
     },
     "execution_count": 15,
     "metadata": {},
     "output_type": "execute_result"
    }
   ],
   "source": [
    "len(eng_stopwords)"
   ]
  },
  {
   "cell_type": "markdown",
   "id": "xBAO2VeWgDiM",
   "metadata": {
    "id": "xBAO2VeWgDiM"
   },
   "source": [
    "### Exercise 2-1: Remove the stopwords from the dataset (similarly to how we removed punctuation above)"
   ]
  },
  {
   "cell_type": "code",
   "execution_count": 16,
   "id": "9d584a6f",
   "metadata": {
    "id": "9d584a6f"
   },
   "outputs": [
    {
     "data": {
      "text/plain": [
       "710578"
      ]
     },
     "execution_count": 16,
     "metadata": {},
     "output_type": "execute_result"
    }
   ],
   "source": [
    "words_wo_puncts_stopwords = [x for x in words_wo_puncts if x not in eng_stopwords]\n",
    "len(words_wo_puncts_stopwords)"
   ]
  },
  {
   "cell_type": "markdown",
   "id": "RuUty50kgS2o",
   "metadata": {
    "id": "RuUty50kgS2o"
   },
   "source": [
    "### Exercise 2-2: Find the number of uniques words in the dataset now that the stop words have been removed"
   ]
  },
  {
   "cell_type": "code",
   "execution_count": 17,
   "id": "a92f5eb5",
   "metadata": {
    "id": "a92f5eb5"
   },
   "outputs": [
    {
     "data": {
      "text/plain": [
       "39586"
      ]
     },
     "execution_count": 17,
     "metadata": {},
     "output_type": "execute_result"
    }
   ],
   "source": [
    "# unique words without stopwords\n",
    "unique_words = set(words_wo_puncts_stopwords)\n",
    "len(unique_words)"
   ]
  },
  {
   "cell_type": "markdown",
   "id": "bxDxQWNegcny",
   "metadata": {
    "id": "bxDxQWNegcny"
   },
   "source": [
    "### Exercise 2-3: Find the top 20 highest frequency words now that we have removed the stopwords"
   ]
  },
  {
   "cell_type": "code",
   "execution_count": 18,
   "id": "840dded3",
   "metadata": {
    "id": "840dded3"
   },
   "outputs": [
    {
     "data": {
      "text/plain": [
       "film          9517\n",
       "one           5852\n",
       "movie         5771\n",
       "like          3690\n",
       "even          2565\n",
       "time          2411\n",
       "good          2411\n",
       "story         2169\n",
       "would         2109\n",
       "much          2049\n",
       "character     2020\n",
       "also          1967\n",
       "get           1949\n",
       "two           1911\n",
       "well          1906\n",
       "characters    1859\n",
       "first         1836\n",
       "--            1815\n",
       "see           1749\n",
       "way           1693\n",
       "dtype: int64"
      ]
     },
     "execution_count": 18,
     "metadata": {},
     "output_type": "execute_result"
    }
   ],
   "source": [
    "# top 20 highest freq words after removing stopwords\n",
    "pd.Series(words_wo_puncts_stopwords).value_counts()[:20]\n",
    "\n"
   ]
  },
  {
   "cell_type": "markdown",
   "id": "9Z36G7BcgmDF",
   "metadata": {
    "id": "9Z36G7BcgmDF"
   },
   "source": [
    "Find the words that are used only once in the corpus (and print the first few).  "
   ]
  },
  {
   "cell_type": "code",
   "execution_count": 21,
   "id": "70748ea0",
   "metadata": {
    "id": "70748ea0"
   },
   "outputs": [
    {
     "data": {
      "text/plain": [
       "['looooot',\n",
       " 'schnazzy',\n",
       " 'timex',\n",
       " 'indiglo',\n",
       " 'jessalyn',\n",
       " 'gilsig',\n",
       " 'ruber',\n",
       " 'jaleel',\n",
       " 'balki',\n",
       " 'wavers',\n",
       " 'statistics',\n",
       " 'snapshot',\n",
       " 'guesswork',\n",
       " 'maryam',\n",
       " 'daylights',\n",
       " 'terraformed',\n",
       " 'stagnated',\n",
       " 'napolean',\n",
       " 'millimeter',\n",
       " 'enmeshed']"
      ]
     },
     "execution_count": 21,
     "metadata": {},
     "output_type": "execute_result"
    }
   ],
   "source": [
    "# 20 words that are used only once in corpus using hapaxes() function \n",
    "nltk.FreqDist(words_wo_puncts_stopwords).hapaxes()[:20]"
   ]
  },
  {
   "cell_type": "markdown",
   "id": "US3mRSQ8bDei",
   "metadata": {
    "id": "US3mRSQ8bDei"
   },
   "source": [
    "### Exercise 2-4: Use the PorterStemmer to stem the words in the dataset.\n",
    "\n",
    "Display the first few words."
   ]
  },
  {
   "cell_type": "code",
   "execution_count": 48,
   "id": "ecde6733",
   "metadata": {},
   "outputs": [
    {
     "name": "stdout",
     "output_type": "stream",
     "text": [
      "['plot', 'two', 'teen', 'coupl', 'go', 'church', 'parti', 'drink', 'drive', 'get']\n"
     ]
    }
   ],
   "source": [
    "from nltk.stem import PorterStemmer\n",
    "words_wo_puncts_stopwords_ps=[ps.stem(w) for w in words_wo_puncts_stopwords]\n",
    "print(words_wo_puncts_stopwords_ps[:10])\n",
    "# for w in words_wo_puncts_stopwords[:10]:\n",
    "#         print(w, \" : \", ps.stem(w))"
   ]
  },
  {
   "cell_type": "markdown",
   "id": "QEVGhVGTbUMT",
   "metadata": {
    "id": "QEVGhVGTbUMT"
   },
   "source": [
    "### Exercise 2-5: Use the WordNetLemmatizer to lemmatize the words in the dataset.\n",
    "\n",
    "Display the first few words."
   ]
  },
  {
   "cell_type": "code",
   "execution_count": 50,
   "id": "WZxMzKv4bMdl",
   "metadata": {
    "id": "WZxMzKv4bMdl"
   },
   "outputs": [
    {
     "name": "stderr",
     "output_type": "stream",
     "text": [
      "[nltk_data] Downloading package omw-1.4 to\n",
      "[nltk_data]     C:\\Users\\adity\\AppData\\Roaming\\nltk_data...\n",
      "[nltk_data]   Package omw-1.4 is already up-to-date!\n"
     ]
    },
    {
     "name": "stdout",
     "output_type": "stream",
     "text": [
      "['plot', 'two', 'teen', 'couple', 'go', 'church', 'party', 'drink', 'drive', 'get']\n"
     ]
    }
   ],
   "source": [
    "from nltk.stem.wordnet import WordNetLemmatizer\n",
    "nltk.download('omw-1.4')\n",
    "words_wo_puncts_stopwords_wnl=[WordNetLemmatizer().lemmatize(w, pos=\"n\") for w in words_wo_puncts_stopwords]\n",
    "print(words_wo_puncts_stopwords_wnl[:10])"
   ]
  },
  {
   "cell_type": "markdown",
   "id": "uMhXtA3RbMJk",
   "metadata": {
    "id": "uMhXtA3RbMJk"
   },
   "source": []
  },
  {
   "cell_type": "markdown",
   "id": "LuWCQWX3bnsD",
   "metadata": {
    "id": "LuWCQWX3bnsD"
   },
   "source": [
    "### Exercise 2-6: \n",
    "a) How many unique words are there once stemming is applied? (show the that performs the computation and outputs the result)\n",
    "\n",
    "b) How many unique words are there once lemmatization is applied? (show the code that performs the computation and outputs the result)"
   ]
  },
  {
   "cell_type": "code",
   "execution_count": 52,
   "id": "N4WAh6UEbqNq",
   "metadata": {
    "id": "N4WAh6UEbqNq"
   },
   "outputs": [
    {
     "name": "stdout",
     "output_type": "stream",
     "text": [
      "Unique words after stemming is applied:  26101\n",
      "Unique words after lemmatization is applied:  35172\n"
     ]
    }
   ],
   "source": [
    "print(\"Unique words after stemming is applied: \", len(set(words_wo_puncts_stopwords_ps)))\n",
    "print(\"Unique words after lemmatization is applied: \", len(set(words_wo_puncts_stopwords_wnl)))"
   ]
  },
  {
   "cell_type": "markdown",
   "id": "FQOoke3_bvbr",
   "metadata": {
    "id": "FQOoke3_bvbr"
   },
   "source": [
    "## Part 3. Tokenization "
   ]
  },
  {
   "cell_type": "markdown",
   "id": "o0HA5ds8HL6-",
   "metadata": {
    "id": "o0HA5ds8HL6-"
   },
   "source": [
    "### Exercise 3-1: Use the Penn Tree Bank tokenizer to tokenize the sentence below\n",
    "\n",
    "Print the tokens that the tokenizer produces."
   ]
  },
  {
   "cell_type": "code",
   "execution_count": 53,
   "id": "204dbae3",
   "metadata": {
    "id": "204dbae3"
   },
   "outputs": [
    {
     "name": "stdout",
     "output_type": "stream",
     "text": [
      "['Please', 'pay', '$', '100.55', 'to', 'settle', 'your', 'bill.', 'Send', 'confirmation', 'to', 'confirm', '@', 'gmail.com', '.']\n"
     ]
    }
   ],
   "source": [
    "from nltk.tokenize import TreebankWordTokenizer\n",
    "s = 'Please pay $100.55 to settle your bill.  Send confirmation to confirm@gmail.com.'\n",
    "tokenizer = TreebankWordTokenizer()\n",
    "print(tokenizer.tokenize(s))"
   ]
  },
  {
   "cell_type": "markdown",
   "id": "Tu9xug2Gxr84",
   "metadata": {
    "id": "Tu9xug2Gxr84"
   },
   "source": [
    "## Part 4: Levenshtein Distance & Alignment\n",
    "\n",
    "Relevant nltk documentation: https://www.nltk.org/api/nltk.metrics.distance.html"
   ]
  },
  {
   "cell_type": "markdown",
   "id": "fBsXnDQ-yPPE",
   "metadata": {
    "id": "fBsXnDQ-yPPE"
   },
   "source": [
    "### Exercise 4-1: Use the nltk functions edit_distance to compute the Levenshtein edit-distance between the strings \"intention\" and \"execution\""
   ]
  },
  {
   "cell_type": "code",
   "execution_count": 54,
   "id": "5aaSK4Ehylz7",
   "metadata": {
    "id": "5aaSK4Ehylz7"
   },
   "outputs": [
    {
     "data": {
      "text/plain": [
       "5"
      ]
     },
     "execution_count": 54,
     "metadata": {},
     "output_type": "execute_result"
    }
   ],
   "source": [
    "from nltk.metrics.distance import edit_distance \n",
    "edit_distance(\"intention\", \"execution\")"
   ]
  },
  {
   "cell_type": "markdown",
   "id": "NKWLhn1RzBGv",
   "metadata": {
    "id": "NKWLhn1RzBGv"
   },
   "source": [
    "### Exercise 4-2: Use the nltk function edit_distance_align to compute the minimum Levenshtein edit-distance based alignment mapping between the two strings \"intention\" and \"execution\""
   ]
  },
  {
   "cell_type": "code",
   "execution_count": 55,
   "id": "Zc16veVuzBxM",
   "metadata": {
    "id": "Zc16veVuzBxM"
   },
   "outputs": [
    {
     "data": {
      "text/plain": [
       "[(0, 0),\n",
       " (1, 1),\n",
       " (2, 2),\n",
       " (3, 3),\n",
       " (4, 3),\n",
       " (5, 4),\n",
       " (6, 5),\n",
       " (6, 6),\n",
       " (7, 7),\n",
       " (8, 8),\n",
       " (9, 9)]"
      ]
     },
     "execution_count": 55,
     "metadata": {},
     "output_type": "execute_result"
    }
   ],
   "source": [
    "from nltk.metrics.distance import edit_distance_align\n",
    "edit_distance_align(\"intention\", \"execution\")"
   ]
  },
  {
   "cell_type": "code",
   "execution_count": null,
   "id": "75fa2a21",
   "metadata": {},
   "outputs": [],
   "source": []
  }
 ],
 "metadata": {
  "colab": {
   "collapsed_sections": [],
   "name": "CMPE-297-RE-TM-ED.ipynb",
   "provenance": [],
   "toc_visible": true
  },
  "kernelspec": {
   "display_name": "Python 3 (ipykernel)",
   "language": "python",
   "name": "python3"
  },
  "language_info": {
   "codemirror_mode": {
    "name": "ipython",
    "version": 3
   },
   "file_extension": ".py",
   "mimetype": "text/x-python",
   "name": "python",
   "nbconvert_exporter": "python",
   "pygments_lexer": "ipython3",
   "version": "3.9.13"
  }
 },
 "nbformat": 4,
 "nbformat_minor": 5
}
